{
 "cells": [
  {
   "cell_type": "code",
   "execution_count": 4,
   "id": "cc1f946e",
   "metadata": {},
   "outputs": [],
   "source": [
    "#getting libraries\n",
    "from bs4 import BeautifulSoup \n",
    "import requests \n",
    "import csv\n",
    "import pandas as pd\n",
    "#requesting to get content from the website we want to scrape\n",
    "req = requests.get(\"https://www.flipkart.com/search?q=laptop&sid=6bo%2Cb5g&as=on&as-show=on&otracker=AS_QueryStore_OrganicAutoSuggest_1_2_na_na_na&otracker1=AS_QueryStore_OrganicAutoSuggest_1_2_na_na_na&as-pos=1&as-type=RECENT&suggestionId=laptop%7CLaptops&requestId=ca5241ac-e099-4782-8c10-7d8dba492e7e&as-searchtext=la\")\n",
    "content = req.content"
   ]
  },
  {
   "cell_type": "code",
   "execution_count": null,
   "id": "ea05b2b6",
   "metadata": {},
   "outputs": [],
   "source": []
  }
 ],
 "metadata": {
  "kernelspec": {
   "display_name": "Python 3",
   "language": "python",
   "name": "python3"
  },
  "language_info": {
   "codemirror_mode": {
    "name": "ipython",
    "version": 3
   },
   "file_extension": ".py",
   "mimetype": "text/x-python",
   "name": "python",
   "nbconvert_exporter": "python",
   "pygments_lexer": "ipython3",
   "version": "3.8.8"
  }
 },
 "nbformat": 4,
 "nbformat_minor": 5
}
